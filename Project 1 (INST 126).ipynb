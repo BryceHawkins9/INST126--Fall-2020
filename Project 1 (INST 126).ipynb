{
 "cells": [
  {
   "cell_type": "code",
   "execution_count": 1,
   "metadata": {},
   "outputs": [
    {
     "name": "stdout",
     "output_type": "stream",
     "text": [
      "Choose an operation: 1.Addition 2.Subtraction 3.Multiplication 4.Division4\n",
      "First number here:20\n",
      "Second number here:5\n",
      "The solution is 4.0\n"
     ]
    }
   ],
   "source": [
    "# start\n",
    "num = float(input(\"Choose an operation: 1.Addition 2.Subtraction 3.Multiplication 4.Division\"))\n",
    "if num == 1:\n",
    "    first_num = float(input(\"First number here:\"))\n",
    "    second_num = float(input(\"Second number here:\"))\n",
    "    solution = first_num + second_num\n",
    "    print(\"The solution is \"+str(solution))\n",
    "if num == 2:\n",
    "    first_num = float(input(\"First number here:\"))\n",
    "    second_num = float(input(\"Second number here:\"))\n",
    "    solution = first_num - second_num\n",
    "    print(\"The solution is \"+str(solution))    \n",
    "if num == 3:\n",
    "    first_num = float(input(\"First number here:\"))\n",
    "    second_num = float(input(\"Second number here:\"))\n",
    "    solution = first_num * second_num\n",
    "    print(\"The solution is \"+str(solution))\n",
    "if num == 4:\n",
    "    first_num = float(input(\"First number here:\"))\n",
    "    second_num = float(input(\"Second number here:\"))\n",
    "    solution = first_num / second_num\n",
    "    print(\"The solution is \"+str(solution))\n",
    "# end"
   ]
  }
 ],
 "metadata": {
  "kernelspec": {
   "display_name": "Python 3",
   "language": "python",
   "name": "python3"
  },
  "language_info": {
   "codemirror_mode": {
    "name": "ipython",
    "version": 3
   },
   "file_extension": ".py",
   "mimetype": "text/x-python",
   "name": "python",
   "nbconvert_exporter": "python",
   "pygments_lexer": "ipython3",
   "version": "3.8.5"
  }
 },
 "nbformat": 4,
 "nbformat_minor": 4
}
