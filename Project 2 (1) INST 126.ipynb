{
 "cells": [
  {
   "cell_type": "code",
   "execution_count": null,
   "metadata": {},
   "outputs": [
    {
     "name": "stdout",
     "output_type": "stream",
     "text": [
      "['WHDSPQZ', ' XH0', ' TTDBFRT', ' QQJYF', ' ENQD', ' DNPK', ' CNTR', ' EHWHOD', ' TSVMOHOF', ' XNOCFQGTM']\n"
     ]
    }
   ],
   "source": [
    "import random\n",
    "words = \"WHDSPQZ, XH0, TTDBFRT, QQJYF, ENQD, DNPK, CNTR, EHWHOD, TSVMOHOF, XNOCFQGTM\"\n",
    "print(words.split(','))\n",
    "\n",
    "\n",
    "def get_words(words):\n",
    "    word = random.choice(words)\n",
    "    return word.upper()\n",
    "\n",
    "def hangman():\n",
    "    word = get_words(words)\n",
    "    word_letters = set(word)\n",
    "    alphabet = set(string.ascii_uppercase)\n",
    "    used_letters = set()\n",
    "    \n",
    "    lives = 10\n",
    "    \n",
    "    while len(word_letters) > 0 and lives > 0:\n",
    "        print('Current word: ',' '.join(word_list))\n",
    "        \n",
    "        user_letter = input('Guess a letter: ').upper()\n",
    "        if user_letter in alphabet - used_letters:\n",
    "            used_letters.add(user_letter)\n",
    "            if user_letter in word_letters:\n",
    "                word_letters.remove(user_letter)\n",
    "                print('')\n",
    "                \n",
    "            else:\n",
    "                lives = lives - 1\n",
    "                print('\\nYour letter,', user_letter, 'is not in the word.')\n",
    "                \n",
    "        elif user_letter in used_letters:\n",
    "            print('n\\You have already used that letter. Guess another letter.')\n",
    "            \n",
    "        else:\n",
    "            print('\\nThat is not a valid letter.')\n",
    "            \n",
    "    if lives == 0:\n",
    "        print('You died, sorry. The word was', word)\n",
    "    else:\n",
    "        print('YAY! You guessed the word', word)\n",
    "        \n",
    "if __name__ == '__main__':\n",
    "    hangman()\n",
    "    "
   ]
  }
 ],
 "metadata": {
  "kernelspec": {
   "display_name": "Python 3",
   "language": "python",
   "name": "python3"
  },
  "language_info": {
   "codemirror_mode": {
    "name": "ipython",
    "version": 3
   },
   "file_extension": ".py",
   "mimetype": "text/x-python",
   "name": "python",
   "nbconvert_exporter": "python",
   "pygments_lexer": "ipython3",
   "version": "3.8.5"
  }
 },
 "nbformat": 4,
 "nbformat_minor": 4
}
